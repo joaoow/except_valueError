{
  "nbformat": 4,
  "nbformat_minor": 0,
  "metadata": {
    "colab": {
      "provenance": []
    },
    "kernelspec": {
      "name": "python3",
      "display_name": "Python 3"
    },
    "language_info": {
      "name": "python"
    }
  },
  "cells": [
    {
      "cell_type": "code",
      "execution_count": 1,
      "metadata": {
        "colab": {
          "base_uri": "https://localhost:8080/"
        },
        "id": "0BW4Q5ilLj9E",
        "outputId": "86a4b98c-0cf7-478e-e579-54426c5976e7"
      },
      "outputs": [
        {
          "output_type": "stream",
          "name": "stdout",
          "text": [
            "Digite um número: e\n",
            "Favor entrar com um número válido!\n"
          ]
        }
      ],
      "source": [
        "try:\n",
        "  int(input('Digite um número: '))\n",
        "except ValueError:\n",
        "  print('Favor entrar com um número válido!')\n",
        ""
      ]
    },
    {
      "cell_type": "code",
      "source": [
        "while True:\n",
        "  try:\n",
        "   x = int(input('Digite um número válido: '))\n",
        "   break\n",
        "  except ValueError:\n",
        "    print('Favor entrar com número válido!')\n",
        "\n",
        "\n"
      ],
      "metadata": {
        "colab": {
          "base_uri": "https://localhost:8080/"
        },
        "id": "0d5snb5pMgRT",
        "outputId": "1f642b5b-2fad-40fb-dcd7-974164367065"
      },
      "execution_count": 3,
      "outputs": [
        {
          "name": "stdout",
          "output_type": "stream",
          "text": [
            "Digite um número válido: bh\n",
            "Favor entrar com número válido!\n",
            "Digite um número válido: 5\n"
          ]
        }
      ]
    }
  ]
}